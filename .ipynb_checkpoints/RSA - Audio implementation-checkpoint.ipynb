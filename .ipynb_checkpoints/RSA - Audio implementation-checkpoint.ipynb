{
 "cells": [
  {
   "cell_type": "markdown",
   "metadata": {},
   "source": [
    "# Getting Dependencies"
   ]
  },
  {
   "cell_type": "code",
   "execution_count": null,
   "metadata": {},
   "outputs": [],
   "source": [
    "from scipy.io import wavfile\n",
    "import numpy as np\n",
    "import matplotlib.pyplot as plt\n",
    "import math\n",
    "import sounddevice as sd\n",
    "import random\n",
    "import string\n",
    "from Crypto.Cipher import AES"
   ]
  },
  {
   "cell_type": "markdown",
   "metadata": {},
   "source": [
    "# Input for AES."
   ]
  },
  {
   "cell_type": "code",
   "execution_count": null,
   "metadata": {},
   "outputs": [],
   "source": [
    "fs, data = wavfile.read('org_audio.wav')\n",
    "plt.plot(data)            # fs = sampling frequency = 44.1kHz\n",
    "plt.title(\"Original Audio Plot\")"
   ]
  },
  {
   "cell_type": "code",
   "execution_count": null,
   "metadata": {},
   "outputs": [],
   "source": [
    "with open('org_audio.wav', 'rb') as fd:\n",
    "    contents = fd.read()"
   ]
  },
  {
   "cell_type": "markdown",
   "metadata": {},
   "source": [
    "# Getting ready with AES"
   ]
  },
  {
   "cell_type": "code",
   "execution_count": null,
   "metadata": {},
   "outputs": [],
   "source": [
    "AES_KEY = ''.join(random.choice(string.ascii_uppercase + string.ascii_lowercase + string.digits) for x in range(32))\n",
    "\n",
    "AES_IV = ''.join(random.choice(string.ascii_uppercase + string.ascii_lowercase + string.digits) for x in range(16))"
   ]
  },
  {
   "cell_type": "code",
   "execution_count": null,
   "metadata": {},
   "outputs": [],
   "source": [
    "print(\"AES Key is \", AES_KEY)\n",
    "print(\"AES Initialization vector is \", AES_IV)"
   ]
  },
  {
   "cell_type": "markdown",
   "metadata": {},
   "source": [
    "# Encryption using AES"
   ]
  },
  {
   "cell_type": "code",
   "execution_count": null,
   "metadata": {},
   "outputs": [],
   "source": [
    "encryptor = AES.new(AES_KEY.encode(\"utf-8\"), AES.MODE_CFB, AES_IV.encode(\"utf-8\"))\n",
    "encrypted_audio = encryptor.encrypt(contents)"
   ]
  },
  {
   "cell_type": "code",
   "execution_count": null,
   "metadata": {},
   "outputs": [],
   "source": [
    "with open('encrypted_audio_file.wav', 'wb') as fd:\n",
    "    fd.write(encrypted_audio)\n",
    "print(\"A file titled 'encrypted_audio_file.wav' is generated which is the encrypted audio to be communicated\")"
   ]
  },
  {
   "cell_type": "code",
   "execution_count": null,
   "metadata": {},
   "outputs": [],
   "source": [
    "with open('encrypted_audio_file.wav', 'rb') as fd:\n",
    "    contents = fd.read()"
   ]
  },
  {
   "cell_type": "code",
   "execution_count": null,
   "metadata": {},
   "outputs": [],
   "source": [
    "fs, data = wavfile.read('org_audio.wav')\n",
    "k = np.asarray(data, dtype = np.int32)\n",
    "#print(k)"
   ]
  },
  {
   "cell_type": "markdown",
   "metadata": {},
   "source": [
    "# Generate Public and Private Key"
   ]
  },
  {
   "cell_type": "code",
   "execution_count": null,
   "metadata": {},
   "outputs": [],
   "source": [
    "p1 = int(input(\"Enter first prime number: \"))\n",
    "p2 = int(input(\"Enter second prime number: \"))\n",
    "p3 = int(input(\"Enter third prime number: \"))\n",
    "p4 = int(input(\"Enter forth prime number: \"))\n",
    "\n",
    "n = p1*p2*p3*p4\n",
    "print(\"n = p1*p2*p3*p4 = \",n)\n",
    "\n",
    "e = int(input(\"Enter a small, odd number, co-prime with n: \"))\n",
    "k = int(input(\"Enter value of k:\"))\n",
    "\n",
    "phi = (p1-1)*(p2-1)*(p3-1)*(p4-1)\n",
    "print(\"phi = \",phi)\n",
    "\n",
    "d = int((k*phi+1)/e)\n",
    "\n",
    "print(\"d= \",d)\n",
    "\n",
    "public_key = n,e\n",
    "private_key = n,d\n",
    "\n",
    "print(\"Public Key = \", public_key)\n",
    "print(\"Private Key = \",private_key)"
   ]
  },
  {
   "cell_type": "markdown",
   "metadata": {},
   "source": [
    "# Encrypt message using public key"
   ]
  },
  {
   "cell_type": "code",
   "execution_count": null,
   "metadata": {},
   "outputs": [],
   "source": [
    "encrypted=[]\n",
    "for i in data:\n",
    "    encrypted.append((i**e)%n)\n",
    "#encrypted = (data**e)%n\n",
    "#print(encrypted)\n",
    "plt.plot(encrypted)\n",
    "plt.title(\"Encrypted Audio Plot\")"
   ]
  },
  {
   "cell_type": "markdown",
   "metadata": {},
   "source": [
    "# Write the Encrpyted File into an audio file"
   ]
  },
  {
   "cell_type": "code",
   "execution_count": null,
   "metadata": {},
   "outputs": [],
   "source": [
    "with open('encrypted_audio_file.wav', 'wb') as fd:\n",
    "    fd.write(encrypted_audio)\n",
    "print(\"A file titled 'encrypted_audio_file.wav' is generated which is the encrypted audio to be communicated\")"
   ]
  },
  {
   "cell_type": "markdown",
   "metadata": {},
   "source": [
    "# Decryption"
   ]
  },
  {
   "cell_type": "code",
   "execution_count": null,
   "metadata": {},
   "outputs": [],
   "source": [
    "#RSA Decryption:XXX"
   ]
  },
  {
   "cell_type": "code",
   "execution_count": null,
   "metadata": {},
   "outputs": [],
   "source": [
    "'''fs, Data = wavfile.read('encrypted_audio_file.wav')\n",
    "plt.plot(Data)\n",
    "print(Data)\n",
    "ke = np.asarray(Data, dtype = np.int32)'''"
   ]
  },
  {
   "cell_type": "code",
   "execution_count": null,
   "metadata": {},
   "outputs": [],
   "source": [
    "# Python program to compute\n",
    "# factorial of big numbers\n",
    "\n",
    "# Maximum number of digits in\n",
    "# output\n",
    "MAX=100000\n",
    "\n",
    "# This function multiplies x\n",
    "# with the number represented by res[].\n",
    "# res_size is size of res[] or\n",
    "# number of digits in the number\n",
    "# represented by res[]. This function\n",
    "# uses simple school mathematics\n",
    "# for multiplication.\n",
    "# This function may value of res_size\n",
    "# and returns the new value of res_size\n",
    "def multiply(x, res, res_size):\n",
    "\n",
    "\t# Initialize carry\n",
    "\tcarry = 0\n",
    "\n",
    "\t# One by one multiply n with\n",
    "\t# individual digits of res[]\n",
    "\tfor i in range(res_size):\n",
    "\t\tprod = res[i] * x + carry\n",
    "\n",
    "\t\t# Store last digit of\n",
    "\t\t# 'prod' in res[]\n",
    "\t\tres[i] = prod % 10\n",
    "\n",
    "\t\t# Put rest in carry\n",
    "\t\tcarry = prod // 10\n",
    "\n",
    "\t# Put carry in res and\n",
    "\t# increase result size\n",
    "\twhile (carry):\n",
    "\t\tres[res_size] = carry % 10\n",
    "\t\tcarry = carry // 10\n",
    "\t\tres_size+=1\n",
    "\n",
    "\treturn res_size\n",
    "\n",
    "\n",
    "# This function finds\n",
    "# power of a number x\n",
    "def power(x,n):\n",
    "\t\n",
    "\t# printing value \"1\" for power = 0\n",
    "\tif (n == 0) :\n",
    "\t\tprint(\"1\")\n",
    "\t\treturn\n",
    "\t\n",
    "\tres=[0 for i in range(MAX)]\n",
    "\tres_size = 0\n",
    "\ttemp = x\n",
    "\n",
    "\t# Initialize result\n",
    "\twhile (temp != 0):\n",
    "\t\tres[res_size] = temp % 10;\n",
    "\t\tres_size+=1\n",
    "\t\ttemp = temp // 10\n",
    "\n",
    "\n",
    "\t# Multiply x n times\n",
    "\t# (x^n = x*x*x....n times)\n",
    "\tfor i in range(2, n + 1):\n",
    "\t\tres_size = multiply(x, res, res_size)\n",
    "\n",
    "\tprint(x , \"^\" , n , \" = \",end=\"\")\n",
    "\tfor i in range(res_size - 1, -1, -1):\n",
    "\t\tprint(res[i], end=\"\")\n",
    "\n",
    "#exponent = 100\n",
    "#base = 2\n",
    "#power(base, exponent)\n",
    "\n",
    "decrypted = (data**d)%n\n",
    "plt.plot(decrypted)\n",
    "print(decrypted)\n",
    "plt.title('Decrypted Audio Plot')"
   ]
  },
  {
   "cell_type": "markdown",
   "metadata": {},
   "source": [
    "# Write the Decrpyted File into an audio file"
   ]
  },
  {
   "cell_type": "code",
   "execution_count": null,
   "metadata": {},
   "outputs": [],
   "source": [
    "encrypted = np.asarray(encrypted,dtype=np.int16)\n",
    "wavfile.write('decrypted.wav',fs,encrypted)\n",
    "print(\"A file titled 'decrypted.wav' is generated which is analog of the audio\")"
   ]
  },
  {
   "cell_type": "markdown",
   "metadata": {},
   "source": [
    "## Loading"
   ]
  },
  {
   "cell_type": "code",
   "execution_count": null,
   "metadata": {},
   "outputs": [],
   "source": [
    "with open('encrypted_audio_file.wav', 'rb') as fd:\n",
    "    contents = fd.read()"
   ]
  },
  {
   "cell_type": "markdown",
   "metadata": {},
   "source": [
    "## Decryption of data"
   ]
  },
  {
   "cell_type": "code",
   "execution_count": null,
   "metadata": {},
   "outputs": [],
   "source": [
    "decryptor = AES.new(AES_KEY.encode(\"utf-8\"), AES.MODE_CFB, AES_IV.encode(\"utf-8\"))\n",
    "decrypted_audio = decryptor.decrypt(contents)"
   ]
  },
  {
   "cell_type": "code",
   "execution_count": null,
   "metadata": {},
   "outputs": [],
   "source": [
    "with open('decrypted_audio_file.wav', 'wb') as fd:\n",
    "    fd.write(decrypted_audio)"
   ]
  },
  {
   "cell_type": "code",
   "execution_count": null,
   "metadata": {},
   "outputs": [],
   "source": [
    "fs, data = wavfile.read('decrypted_audio_file.wav')\n",
    "plt.plot(data)            # fs = sampling frequency = 44.1kHz\n",
    "plt.title(\"Decrypted Audio Plot\")\n",
    "data_1 = np.asarray(data, dtype = np.int32)"
   ]
  },
  {
   "cell_type": "code",
   "execution_count": null,
   "metadata": {},
   "outputs": [],
   "source": [
    "sd.play(data, fs)"
   ]
  }
 ],
 "metadata": {
  "kernelspec": {
   "display_name": "Python 3",
   "language": "python",
   "name": "python3"
  },
  "language_info": {
   "codemirror_mode": {
    "name": "ipython",
    "version": 3
   },
   "file_extension": ".py",
   "mimetype": "text/x-python",
   "name": "python",
   "nbconvert_exporter": "python",
   "pygments_lexer": "ipython3",
   "version": "3.9.7"
  }
 },
 "nbformat": 4,
 "nbformat_minor": 2
}
